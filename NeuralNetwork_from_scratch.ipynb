{
 "cells": [
  {
   "cell_type": "code",
   "execution_count": 1,
   "id": "7b86afd0",
   "metadata": {},
   "outputs": [],
   "source": [
    "import numpy as np"
   ]
  },
  {
   "cell_type": "code",
   "execution_count": 2,
   "id": "f9fcf146",
   "metadata": {},
   "outputs": [],
   "source": [
    "##activation function definition\n",
    "def sigmoid(x):\n",
    "    return 1/(1 + np.exp(-x))"
   ]
  },
  {
   "cell_type": "code",
   "execution_count": 3,
   "id": "f1e31983",
   "metadata": {},
   "outputs": [],
   "source": [
    "###Function to generate random weights based on the number of input neurons and the output neurons.\n",
    "def nn(inputs, neurons):\n",
    "    W = np.random.randn(neurons, inputs)\n",
    "    return(W)\n",
    "## Function determine the output of a layer using the previous output and the weights.\n",
    " def feedforward(A_prev,W):\n",
    "    Z = np.dot(W, A_prev)\n",
    "    A = sigmoid(Z)\n",
    "    return A"
   ]
  },
  {
   "cell_type": "code",
   "execution_count": 4,
   "id": "2db780dc",
   "metadata": {},
   "outputs": [
    {
     "name": "stdout",
     "output_type": "stream",
     "text": [
      "Enter number of input neurons : 2\n",
      "[ 0.07100624 -0.24553117]\n"
     ]
    }
   ],
   "source": [
    "\n",
    "from random import seed\n",
    "from random import random\n",
    "# seed random number generator\n",
    "seed(1)\n",
    "  \n",
    "# number of input neurons\n",
    "i_count = int(input(\"Enter number of input neurons : \"))\n",
    "\n",
    "# iterating till the range\n",
    "for i in range(0, i_count):\n",
    "    \n",
    "    inp = np.random.randn(i_count) # generate random input values for each input neuron\n",
    "    \n",
    " \n",
    "      \n",
    "print(inp) #prints the input values"
   ]
  },
  {
   "cell_type": "code",
   "execution_count": 5,
   "id": "f88d4c6b",
   "metadata": {},
   "outputs": [
    {
     "name": "stdout",
     "output_type": "stream",
     "text": [
      "Enter number of hidden layers :4\n",
      "4\n"
     ]
    }
   ],
   "source": [
    "h_count = int(input(\"Enter number of hidden layers :\"))\n",
    "print(h_count)"
   ]
  },
  {
   "cell_type": "code",
   "execution_count": 6,
   "id": "40e628a3",
   "metadata": {},
   "outputs": [
    {
     "name": "stdout",
     "output_type": "stream",
     "text": [
      "Enter number of neurons in each hidden layer :3\n",
      "Enter number of neurons in each hidden layer :2\n",
      "Enter number of neurons in each hidden layer :2\n",
      "Enter number of neurons in each hidden layer :3\n"
     ]
    }
   ],
   "source": [
    "## creating an array h to hold the number neurons in each layer. For thhis initialise it with\n",
    "##hidden layer count+2 number of zeros.\n",
    "## input layer, h_count number of hidden layers and output layer constitute the 'h' array size.\n",
    "h = np.zeros(h_count+2,int)\n",
    "h[0] = i_count ### make the first element of 'h' array as the input layer neurons count.\n",
    "for k in range(1,h_count+1):\n",
    "    h[k] = int(input(\"Enter number of neurons in each hidden layer :\"))\n",
    "    "
   ]
  },
  {
   "cell_type": "code",
   "execution_count": 7,
   "id": "64d79490",
   "metadata": {},
   "outputs": [
    {
     "name": "stdout",
     "output_type": "stream",
     "text": [
      "Enter number of output neurons :2\n",
      "2\n"
     ]
    }
   ],
   "source": [
    "o_count = int(input(\"Enter number of output neurons :\"))\n",
    "h[h_count+1]= o_count ## stores the output layer neuron count to the last position of the array 'h'\n",
    "print(o_count)"
   ]
  },
  {
   "cell_type": "code",
   "execution_count": 8,
   "id": "e613b4fa",
   "metadata": {},
   "outputs": [
    {
     "data": {
      "text/plain": [
       "array([2, 3, 2, 2, 3, 2])"
      ]
     },
     "execution_count": 8,
     "metadata": {},
     "output_type": "execute_result"
    }
   ],
   "source": [
    "#array which contains the number of neuron in each layer\n",
    "h"
   ]
  },
  {
   "cell_type": "code",
   "execution_count": 11,
   "id": "20865702",
   "metadata": {},
   "outputs": [
    {
     "name": "stdout",
     "output_type": "stream",
     "text": [
      "\n",
      "Weight matrix at each layer\n",
      " [[ 1.90060025  1.53887176]\n",
      " [ 0.12175743 -0.52789298]\n",
      " [ 1.16821872  0.31930448]]\n",
      "dimension of weight matrix\t\t\t (3, 2)\n",
      "each layer outputs : [0.43957514 0.53450997 0.5011379 ]\n",
      "\n",
      "Weight matrix at each layer\n",
      " [[-0.66682492 -0.30968974  1.42971299]\n",
      " [ 1.36574517 -0.68776097  0.76913194]]\n",
      "dimension of weight matrix\t\t\t (2, 3)\n",
      "each layer outputs : [0.56410314 0.64980307]\n",
      "\n",
      "Weight matrix at each layer\n",
      " [[-1.25955457  0.95219566]\n",
      " [-0.53700771  0.0262287 ]]\n",
      "dimension of weight matrix\t\t\t (2, 2)\n",
      "each layer outputs : [0.47707134 0.42901177]\n",
      "\n",
      "Weight matrix at each layer\n",
      " [[-0.52769517 -0.06082763]\n",
      " [ 0.50959044  0.58263125]\n",
      " [-0.20546593  0.23606011]]\n",
      "dimension of weight matrix\t\t\t (3, 2)\n",
      "each layer outputs : [0.43098243 0.62082859 0.50081266]\n",
      "\n",
      "Weight matrix at each layer\n",
      " [[ 0.16646039 -0.62152474 -0.26182602]\n",
      " [ 0.65957605  0.1209905   0.25409088]]\n",
      "dimension of weight matrix\t\t\t (2, 3)\n",
      "each layer outputs : [0.39049199 0.61931269]\n"
     ]
    }
   ],
   "source": [
    "### initial value of A is the input.\n",
    "A = inp\n",
    "for i in range (0,h_count+1): ## iterates from input layer to the output layer\n",
    "    W = nn(h[i],h[i+1]) ## random weight is generated based on the neurons on the present layer and the next layer\n",
    "    print('\\nWeight matrix at each layer\\n',W)    \n",
    "    print('dimension of weight matrix\\t\\t\\t',np.shape(W))\n",
    "    A = feedforward(A,W) ##function call to find the values of the output of each layer.\n",
    "    print('each layer outputs :',A)"
   ]
  },
  {
   "cell_type": "code",
   "execution_count": null,
   "id": "d034bf1e",
   "metadata": {},
   "outputs": [],
   "source": []
  }
 ],
 "metadata": {
  "kernelspec": {
   "display_name": "Python 3 (ipykernel)",
   "language": "python",
   "name": "python3"
  },
  "language_info": {
   "codemirror_mode": {
    "name": "ipython",
    "version": 3
   },
   "file_extension": ".py",
   "mimetype": "text/x-python",
   "name": "python",
   "nbconvert_exporter": "python",
   "pygments_lexer": "ipython3",
   "version": "3.9.12"
  }
 },
 "nbformat": 4,
 "nbformat_minor": 5
}
